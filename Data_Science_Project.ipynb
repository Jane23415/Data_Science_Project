{
  "cells": [
    {
      "cell_type": "markdown",
      "metadata": {
        "id": "view-in-github",
        "colab_type": "text"
      },
      "source": [
        "<a href=\"https://colab.research.google.com/github/Jane23415/Data_Science_Project/blob/main/Data_Science_Project.ipynb\" target=\"_parent\"><img src=\"https://colab.research.google.com/assets/colab-badge.svg\" alt=\"Open In Colab\"/></a>"
      ]
    },
    {
      "cell_type": "markdown",
      "source": [
        "# **Popular Filming Locations in NYC** \n",
        "By: Jane Feng\n",
        "\n",
        "![alt text](https://www.prospecthill.com/wp-content/uploads/2016/09/film-2.jpg)\n",
        "Image Credits https://www.prospecthill.com/blog/navigating-2016-virginia-film-festival "
      ],
      "metadata": {
        "id": "N0gzIaoWkFuj"
      }
    },
    {
      "cell_type": "markdown",
      "source": [
        "### **Overview of the project:**\n"
      ],
      "metadata": {
        "id": "jNDq55sXkZUb"
      }
    },
    {
      "cell_type": "markdown",
      "source": [
        "The objective of the project is to find the which zip codes in NYC are the most popular for filming/shooting things. My goal is to determine which zip codes around NYC are used the most by counting the number of permits for each zip code. Because NYC is mostly known for its locations in Manhattan, I predict that most of the top filming zip codes will be located in Manhattan. "
      ],
      "metadata": {
        "id": "LbXNXC3A_EBh"
      }
    },
    {
      "cell_type": "markdown",
      "source": [
        "### **Data**"
      ],
      "metadata": {
        "id": "s6SudIVOzctF"
      }
    },
    {
      "cell_type": "markdown",
      "source": [
        "The data used for this project, Film Permits, came from NYC Open Data (https://data.cityofnewyork.us/City-Government/Film-Permits/tg4x-b46p). The dataset contained filming related permits that were obtained between Jan 1st 2012 - Aug 9th 2021, the zip codes the filming took place and they type of production the permit were used for. "
      ],
      "metadata": {
        "id": "MPl8Hco6CtTv"
      }
    },
    {
      "cell_type": "code",
      "execution_count": null,
      "metadata": {
        "id": "qYNYC8fdoB6x"
      },
      "outputs": [],
      "source": [
        "# Code to read csv file into Colaboratory:\n",
        "!pip install -U -q PyDrive\n",
        "from pydrive.auth import GoogleAuth\n",
        "from pydrive.drive import GoogleDrive\n",
        "from google.colab import auth\n",
        "from oauth2client.client import GoogleCredentials\n",
        "# Authenticate and create the PyDrive client.\n",
        "auth.authenticate_user()\n",
        "gauth = GoogleAuth()\n",
        "gauth.credentials = GoogleCredentials.get_application_default()\n",
        "drive = GoogleDrive(gauth)\n",
        "\n",
        "csv_file = drive.CreateFile({'id':\"11pnfuhO9lDEoLNmZvjf-Sb0U6bhmzjwR\"}) \n",
        "csv_file.GetContentFile(\"Film_Permits.csv\")"
      ]
    },
    {
      "cell_type": "code",
      "execution_count": null,
      "metadata": {
        "id": "pPLc0sHZ10m1"
      },
      "outputs": [],
      "source": [
        "pip install pandasql"
      ]
    },
    {
      "cell_type": "code",
      "source": [
        "# importing libraries\n",
        "import pandas as pd \n",
        "import pandasql as psql\n",
        "import matplotlib.pyplot as plt"
      ],
      "metadata": {
        "id": "VGmHYv8oUo3e"
      },
      "execution_count": null,
      "outputs": []
    },
    {
      "cell_type": "markdown",
      "source": [
        "### **Techniques**"
      ],
      "metadata": {
        "id": "brhMiX8hzs1Y"
      }
    },
    {
      "cell_type": "markdown",
      "source": [
        "Since the dataset contained all permits that are related to filming, I had to clean the data by using SQL to remove the rows that were not shooting permits. From there I noticed that some rows in the Zip Code(s) column had multiple values, so I created a list to hold all the zip codes and converted the list into a dataframe, zip_df, to be used in other parts of the project. Using the zip_df, I was able to create my bar graph visualizations by counting the number of times each zip code appeared in the list, since each occurrence of the zip code represented a permit in the zip code. For all the bar graph visualizations, I extracted the zip codes and graphed the top 25 zip codes with the most permits. Lastly, I also created a pie chart to show the breakdown of what type of filming event the permits were used for. "
      ],
      "metadata": {
        "id": "cMJ21iMoEIGY"
      }
    },
    {
      "cell_type": "code",
      "execution_count": null,
      "metadata": {
        "id": "1V1MRXbickKU"
      },
      "outputs": [],
      "source": [
        "# Reading csv file\n",
        "film_file = pd.read_csv('Film_Permits.csv')"
      ]
    },
    {
      "cell_type": "code",
      "execution_count": null,
      "metadata": {
        "id": "x-ipd0Q9nPWn"
      },
      "outputs": [],
      "source": [
        "# Filter rows where EventType = Shooting Permit\n",
        "event_filter = 'SELECT * FROM film_file WHERE EventType = \"Shooting Permit\"'\n",
        "event = psql.sqldf(event_filter)\n",
        "event"
      ]
    },
    {
      "cell_type": "code",
      "source": [
        "# extracting the zip codes from the df\n",
        "zipcode_list = []\n",
        "for i in event['ZipCode(s)']:\n",
        "    temp = str(i).split(\", \")\n",
        "    for j in temp:\n",
        "        zipcode_list.append(j)\n",
        "\n",
        "# convert the extracted zip codes into a df \n",
        "zip_df = pd.DataFrame(zipcode_list, columns = ['Zip Codes'])\n",
        "zip_df"
      ],
      "metadata": {
        "id": "VUnaZb25TCEF"
      },
      "execution_count": null,
      "outputs": []
    },
    {
      "cell_type": "code",
      "source": [
        "# Find the top 25 zip codes used for filming locations in NYC \n",
        "print(\"Zip Code\", \"Total\")\n",
        "print(zip_df['Zip Codes'].value_counts()[:25])"
      ],
      "metadata": {
        "id": "p_OQ0zgQW615"
      },
      "execution_count": null,
      "outputs": []
    },
    {
      "cell_type": "code",
      "source": [
        "# Graph the top 25 zip codes in NYC \n",
        "zip_df['Zip Codes'].value_counts()[:25].plot(kind = 'bar')\n",
        "plt.title('Top 25 Most Popular Filming Zip Codes Around NYC')\n",
        "plt.xlabel('Zip Codes')\n",
        "plt.xticks(rotation = 90)\n",
        "plt.ylabel('Number of Film Permits')\n",
        "plt.show()"
      ],
      "metadata": {
        "id": "8p36ZJDPTK-j"
      },
      "execution_count": null,
      "outputs": []
    },
    {
      "cell_type": "code",
      "source": [
        "# Extract zip codes located in Manhattan\n",
        "manhattan_list = []\n",
        "for i in zip_df['Zip Codes']:\n",
        "  if i.isdigit() == True:\n",
        "    if (int(i) > 10000) & (int(i) < 10283):\n",
        "      manhattan_list.append(i)\n",
        "\n",
        "# Convert extracted zip codes into a dataframe\n",
        "manhattan_df = pd.DataFrame(manhattan_list, columns = ['Zip Codes'])"
      ],
      "metadata": {
        "id": "nrz_u4WnYfSK"
      },
      "execution_count": null,
      "outputs": []
    },
    {
      "cell_type": "code",
      "source": [
        "# Top 25 zip codes in Manhattan\n",
        "print(\"Zip Code\", \"Total\")\n",
        "print(manhattan_df['Zip Codes'].value_counts()[:25])"
      ],
      "metadata": {
        "id": "wR5pMtjnbweW"
      },
      "execution_count": null,
      "outputs": []
    },
    {
      "cell_type": "code",
      "source": [
        "# Graph the top 25 zip codes in Manhattan \n",
        "manhattan_df['Zip Codes'].value_counts()[:25].plot(kind = 'bar')\n",
        "plt.title('Top 25 Filming Zip Codes in Manhattan')\n",
        "plt.xlabel('Zip Codes')\n",
        "plt.xticks(rotation = 90)\n",
        "plt.ylabel('Number of Film Permits')\n",
        "plt.show()"
      ],
      "metadata": {
        "colab": {
          "base_uri": "https://localhost:8080/",
          "height": 317
        },
        "id": "XDDYPnqDcEs1",
        "outputId": "34da087b-d1b6-4e26-9d16-a9c933e1b6c6"
      },
      "execution_count": null,
      "outputs": [
        {
          "output_type": "display_data",
          "data": {
            "image/png": "[encoded data removed]",
            "text/plain": [
              "<Figure size 432x288 with 1 Axes>"
            ]
          },
          "metadata": {
            "needs_background": "light"
          }
        }
      ]
    },
    {
      "cell_type": "code",
      "source": [
        "# Extract zip codes located in Brooklyn\n",
        "brooklyn_list = []\n",
        "for i in zip_df['Zip Codes']:\n",
        "  if i.isdigit() == True:\n",
        "    if (int(i) > 11200) & (int(i) < 11257):\n",
        "      brooklyn_list.append(i)\n",
        "\n",
        "# Convert extracted zip codes into a dataframe\n",
        "brooklyn_df = pd.DataFrame(brooklyn_list, columns = ['Zip Codes'])"
      ],
      "metadata": {
        "id": "8dibjH9wccq_"
      },
      "execution_count": null,
      "outputs": []
    },
    {
      "cell_type": "code",
      "source": [
        "# Top 25 zip codes in Brooklyn\n",
        "print(\"Zip Code\", \"Total\")\n",
        "print(brooklyn_df['Zip Codes'].value_counts()[:25])"
      ],
      "metadata": {
        "id": "pDmpUkTbc_9V"
      },
      "execution_count": null,
      "outputs": []
    },
    {
      "cell_type": "code",
      "source": [
        "# Graph the top 25 zip codes in Brooklyn \n",
        "brooklyn_df['Zip Codes'].value_counts()[:25].plot(kind = 'bar')\n",
        "plt.title('Top 25 Filming Zip Codes in Brooklyn')\n",
        "plt.xlabel('Zip Codes')\n",
        "plt.xticks(rotation = 90)\n",
        "plt.ylabel('Number of Film Permits')\n",
        "plt.show()"
      ],
      "metadata": {
        "id": "o3waCSctc_yp"
      },
      "execution_count": null,
      "outputs": []
    },
    {
      "cell_type": "code",
      "source": [
        "# Extract zip codes located in Queens\n",
        "queens_list = []\n",
        "for i in zip_df['Zip Codes']:\n",
        "  if i.isdigit() == True:\n",
        "    if ((int(i) > 11000) & (int(i) < 11110)) | ((int(i) > 11350) & (int(i) < 11386)) | ((int(i) > 11410) & (int(i) < 11437)) | ((int(i) > 11690) & (int(i) < 11698)):\n",
        "      queens_list.append(i)\n",
        "\n",
        "# Convert extracted zip codes into a dataframe\n",
        "queens_df = pd.DataFrame(queens_list, columns = ['Zip Codes'])"
      ],
      "metadata": {
        "id": "7qmXRBNTfSWo"
      },
      "execution_count": null,
      "outputs": []
    },
    {
      "cell_type": "code",
      "source": [
        "# Top 25 zip codes in Queens\n",
        "print(\"Zip Code\", \"Total\")\n",
        "print(queens_df['Zip Codes'].value_counts()[:25])"
      ],
      "metadata": {
        "colab": {
          "base_uri": "https://localhost:8080/"
        },
        "id": "7ALi87LHfQci",
        "outputId": "c2bfcadb-2efe-43f5-b9e8-dfd2731d306c"
      },
      "execution_count": null,
      "outputs": [
        {
          "output_type": "stream",
          "name": "stdout",
          "text": [
            "Zip Code Total\n",
            "11101    6413\n",
            "11106    1779\n",
            "11385    1605\n",
            "11105     462\n",
            "11378     455\n",
            "11415     326\n",
            "11102     280\n",
            "11375     235\n",
            "11104     231\n",
            "11377     225\n",
            "11357     188\n",
            "11363     187\n",
            "11103     178\n",
            "11418     159\n",
            "11109     158\n",
            "11379     139\n",
            "11435     131\n",
            "11374     128\n",
            "11367     125\n",
            "11421     118\n",
            "11361     117\n",
            "11373     114\n",
            "11694     107\n",
            "11432     102\n",
            "11354      93\n",
            "Name: Zip Codes, dtype: int64\n"
          ]
        }
      ]
    },
    {
      "cell_type": "code",
      "source": [
        "# Graph the top 25 zip codes in Queens\n",
        "queens_df['Zip Codes'].value_counts()[:25].plot(kind = 'bar')\n",
        "plt.title('Top 25 Filming Zip Codes in Queens')\n",
        "plt.xlabel('Zip Codes')\n",
        "plt.xticks(rotation = 90)\n",
        "plt.ylabel('Number of Film Permits')\n",
        "plt.show()"
      ],
      "metadata": {
        "colab": {
          "base_uri": "https://localhost:8080/",
          "height": 317
        },
        "id": "8cHxavOEfQTc",
        "outputId": "0301c5df-6519-481d-87dc-c4ec676e3119"
      },
      "execution_count": null,
      "outputs": [
        {
          "output_type": "display_data",
          "data": {
            "image/png": "[encoded data removed]",
            "text/plain": [
              "<Figure size 432x288 with 1 Axes>"
            ]
          },
          "metadata": {
            "needs_background": "light"
          }
        }
      ]
    },
    {
      "cell_type": "code",
      "source": [
        "# Extract zip codes located in Bronx\n",
        "bronx_list = []\n",
        "for i in zip_df['Zip Codes']:\n",
        "  if i.isdigit() == True:\n",
        "    if (int(i) > 10450) & (int(i) < 10476):\n",
        "      bronx_list.append(i)\n",
        "\n",
        "# Convert extracted zip codes into a dataframe\n",
        "bronx_df = pd.DataFrame(bronx_list, columns = ['Zip Codes'])"
      ],
      "metadata": {
        "id": "D0tGyhXuhwg5"
      },
      "execution_count": null,
      "outputs": []
    },
    {
      "cell_type": "code",
      "source": [
        "# Top 25 zip codes in Bronx\n",
        "print(\"Zip Code\", \"Total\")\n",
        "print(bronx_df['Zip Codes'].value_counts()[:25])"
      ],
      "metadata": {
        "colab": {
          "base_uri": "https://localhost:8080/"
        },
        "id": "skXNDDwohwPr",
        "outputId": "500f8e5b-6d33-43d2-e5d4-1b90ad00636e"
      },
      "execution_count": null,
      "outputs": [
        {
          "output_type": "stream",
          "name": "stdout",
          "text": [
            "Zip Code Total\n",
            "10454    691\n",
            "10451    251\n",
            "10474    228\n",
            "10452    173\n",
            "10458    171\n",
            "10471    148\n",
            "10457    148\n",
            "10468    132\n",
            "10473    126\n",
            "10453    101\n",
            "10456     94\n",
            "10463     88\n",
            "10464     61\n",
            "10455     58\n",
            "10466     49\n",
            "10470     48\n",
            "10461     46\n",
            "10467     45\n",
            "10465     40\n",
            "10459     38\n",
            "10462     37\n",
            "10472     26\n",
            "10469     25\n",
            "10460     25\n",
            "10475     20\n",
            "Name: Zip Codes, dtype: int64\n"
          ]
        }
      ]
    },
    {
      "cell_type": "code",
      "source": [
        "# Graph the top 25 zip codes in Bronx \n",
        "bronx_df['Zip Codes'].value_counts()[:25].plot(kind = 'bar')\n",
        "plt.title('Top 25 Filming Zip Codes in Bronx')\n",
        "plt.xlabel('Zip Codes')\n",
        "plt.xticks(rotation = 90)\n",
        "plt.ylabel('Number of Film Permits')\n",
        "plt.show()"
      ],
      "metadata": {
        "colab": {
          "base_uri": "https://localhost:8080/",
          "height": 317
        },
        "id": "5syswpyvhwHb",
        "outputId": "52719a12-1e73-431a-9799-35d3c422adb9"
      },
      "execution_count": null,
      "outputs": [
        {
          "output_type": "display_data",
          "data": {
            "image/png": "[encoded data removed]",
            "text/plain": [
              "<Figure size 432x288 with 1 Axes>"
            ]
          },
          "metadata": {
            "needs_background": "light"
          }
        }
      ]
    },
    {
      "cell_type": "code",
      "source": [
        "# Since Staten Island has less than 25 zip codes, I decided to show and graph the total of permits in all the zip codes\n",
        "# Extract zip codes located in Staten Island\n",
        "staten_list = []\n",
        "for i in zip_df['Zip Codes']:\n",
        "  if i.isdigit() == True:\n",
        "    if (int(i) > 10300) & (int(i) < 10315):\n",
        "      staten_list.append(i)\n",
        "\n",
        "# Convert extracted zip codes into a dataframe\n",
        "staten_df = pd.DataFrame(staten_list, columns = ['Zip Codes'])"
      ],
      "metadata": {
        "id": "xATXiBgAhwAb"
      },
      "execution_count": null,
      "outputs": []
    },
    {
      "cell_type": "code",
      "source": [
        "# Filming zip codes in Staten Island\n",
        "print(\"Zip Code\", \"Total\")\n",
        "print(staten_df['Zip Codes'].value_counts()[:25])"
      ],
      "metadata": {
        "colab": {
          "base_uri": "https://localhost:8080/"
        },
        "id": "qjg0wBknhv5k",
        "outputId": "dfe72cbf-33c2-40d1-9bc1-0fe67da27492"
      },
      "execution_count": null,
      "outputs": [
        {
          "output_type": "stream",
          "name": "stdout",
          "text": [
            "Zip Code Total\n",
            "10301    245\n",
            "10304    179\n",
            "10309    135\n",
            "10310    134\n",
            "10302     91\n",
            "10314     85\n",
            "10305     82\n",
            "10306     81\n",
            "10303     60\n",
            "10307     44\n",
            "10308     28\n",
            "10312     27\n",
            "Name: Zip Codes, dtype: int64\n"
          ]
        }
      ]
    },
    {
      "cell_type": "code",
      "source": [
        "# Graph the filming zip codes in Staten Island \n",
        "staten_df['Zip Codes'].value_counts()[:25].plot(kind = 'bar')\n",
        "plt.title('Filming Zip Codes in Staten Island')\n",
        "plt.xlabel('Zip Codes')\n",
        "plt.xticks(rotation = 90)\n",
        "plt.ylabel('Number of Film Permits')\n",
        "plt.show()"
      ],
      "metadata": {
        "colab": {
          "base_uri": "https://localhost:8080/",
          "height": 317
        },
        "id": "NFYR6ORehvyg",
        "outputId": "1a5d6e17-5383-480f-e8e0-e3c811251789"
      },
      "execution_count": null,
      "outputs": [
        {
          "output_type": "display_data",
          "data": {
            "image/png": "[encoded data removed]",
            "text/plain": [
              "<Figure size 432x288 with 1 Axes>"
            ]
          },
          "metadata": {
            "needs_background": "light"
          }
        }
      ]
    },
    {
      "cell_type": "code",
      "source": [
        "# breakdown of what category the film permits are used for \n",
        "category_count = event['Category'].value_counts()\n",
        "percentage = []\n",
        "for i in category_count:\n",
        "  percentage.append(round(i/sum(category_count)*100, 1))\n",
        "\n",
        "print(\"Category\", \"\\t  \", \"Total Permits\")\n",
        "print(category_count)\n",
        "print(\"Percentage break down: \", percentage)"
      ],
      "metadata": {
        "colab": {
          "base_uri": "https://localhost:8080/"
        },
        "id": "fr4D9o1MoacO",
        "outputId": "ca4397d9-0c51-434d-c792-b65b7f02513c"
      },
      "execution_count": null,
      "outputs": [
        {
          "output_type": "stream",
          "name": "stdout",
          "text": [
            "Category \t   Total Permits\n",
            "Television             38156\n",
            "Film                   10671\n",
            "Commercial              5555\n",
            "Still Photography       4177\n",
            "WEB                     2574\n",
            "Theater                  669\n",
            "Documentary              307\n",
            "Student                  291\n",
            "Music Video              239\n",
            "Red Carpet/Premiere        1\n",
            "Name: Category, dtype: int64\n",
            "Percentage break down:  [60.9, 17.0, 8.9, 6.7, 4.1, 1.1, 0.5, 0.5, 0.4, 0.0]\n"
          ]
        }
      ]
    },
    {
      "cell_type": "code",
      "source": [
        "# Create pie chart to see what the film permits are used for\n",
        "category_count = event['Category'].value_counts()\n",
        "category_count.plot.pie(explode = [0.05, 0.05, 0.05, 0.05, 0.05, 0.05, 0.05, 0.05, 0.05, 0.05], autopct='%1.1f%%', figsize=(10,10))\n",
        "plt.title('Film Permits Percentage for Each Category')\n",
        "plt.ylabel('')\n",
        "plt.show()"
      ],
      "metadata": {
        "colab": {
          "base_uri": "https://localhost:8080/",
          "height": 591
        },
        "id": "c7XTsI7ImPxS",
        "outputId": "6cfedcb5-ce55-48b6-fa19-70dcb5640439"
      },
      "execution_count": null,
      "outputs": [
        {
          "output_type": "display_data",
          "data": {
            "image/png": "[encoded data removed]",
            "text/plain": [
              "<Figure size 720x720 with 1 Axes>"
            ]
          },
          "metadata": {}
        }
      ]
    },
    {
      "cell_type": "markdown",
      "metadata": {
        "id": "FoicNKR5hYHI"
      },
      "source": [
        "### **Resources**\n"
      ]
    },
    {
      "cell_type": "markdown",
      "source": [
        "*  Dataset: https://data.cityofnewyork.us/City-Government/Film-Permits/tg4x-b46p \n",
        "*  Loading Data Onto Colab: https://towardsdatascience.com/3-ways-to-load-csv-files-into-colab-7c14fcbdcb92 \n",
        "*  Zip Codes for Each Borough: https://www.nycbynatives.com/nyc_info/new_york_city_zip_codes.php  \n",
        "*  Bar Graph: https://mode.com/python-tutorial/counting-and-plotting-in-python/ \n",
        "*  Pie Chart: https://www.sisense.com/blog/data-visualizations-in-python-and-r/ "
      ],
      "metadata": {
        "id": "ElSNnOcBGOWL"
      }
    }
  ],
  "metadata": {
    "colab": {
      "collapsed_sections": [],
      "name": "Data_Science_Project.ipynb",
      "provenance": [],
      "authorship_tag": "ABX9TyNF+qnD9Ikj/obp2Jz9zBNl",
      "include_colab_link": true
    },
    "kernelspec": {
      "display_name": "Python 3",
      "name": "python3"
    },
    "language_info": {
      "name": "python"
    }
  },
  "nbformat": 4,
  "nbformat_minor": 0
}