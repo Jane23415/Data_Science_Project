{
  "cells": [
    {
      "cell_type": "markdown",
      "metadata": {
        "id": "view-in-github",
        "colab_type": "text"
      },
      "source": [
        "<a href=\"https://colab.research.google.com/github/Jane23415/Data_Science_Project/blob/main/Data_Science_Project.ipynb\" target=\"_parent\"><img src=\"https://colab.research.google.com/assets/colab-badge.svg\" alt=\"Open In Colab\"/></a>"
      ]
    },
    {
      "cell_type": "markdown",
      "source": [
        "# **Popular Filming Locations in NYC** \n",
        "By: Jane Feng\n",
        "\n",
        "![alt text](https://www.prospecthill.com/wp-content/uploads/2016/09/film-2.jpg)\n"
      ],
      "metadata": {
        "id": "N0gzIaoWkFuj"
      }
    },
    {
      "cell_type": "markdown",
      "source": [
        "### **Overview of the project:**\n"
      ],
      "metadata": {
        "id": "jNDq55sXkZUb"
      }
    },
    {
      "cell_type": "markdown",
      "source": [
        "The objective of the project is to find the which zip codes in NYC are the most popular for filming/shooting things. My goal is to determine which zip codes around NYC are used the most by counting the number of permits for each zip code. Because NYC is mostly known for its locations in Manhattan, I predict that most of the top filming zip codes will be located in Manhattan. "
      ],
      "metadata": {
        "id": "LbXNXC3A_EBh"
      }
    },
    {
      "cell_type": "markdown",
      "source": [
        "### **Data**"
      ],
      "metadata": {
        "id": "s6SudIVOzctF"
      }
    },
    {
      "cell_type": "markdown",
      "source": [
        "The data used for this project, Film Permits, came from NYC Open Data (https://data.cityofnewyork.us/City-Government/Film-Permits/tg4x-b46p). The dataset contains filming related permits that were obtained between Jan 1st 2012 - Aug 9th 2021, the zip codes the filming took place and they type of production the permit were used for. "
      ],
      "metadata": {
        "id": "MPl8Hco6CtTv"
      }
    },
    {
      "cell_type": "code",
      "execution_count": 1,
      "metadata": {
        "id": "qYNYC8fdoB6x"
      },
      "outputs": [],
      "source": [
        "# Code to read csv file into Colaboratory:\n",
        "!pip install -U -q PyDrive\n",
        "from pydrive.auth import GoogleAuth\n",
        "from pydrive.drive import GoogleDrive\n",
        "from google.colab import auth\n",
        "from oauth2client.client import GoogleCredentials\n",
        "# Authenticate and create the PyDrive client.\n",
        "auth.authenticate_user()\n",
        "gauth = GoogleAuth()\n",
        "gauth.credentials = GoogleCredentials.get_application_default()\n",
        "drive = GoogleDrive(gauth)\n",
        "\n",
        "csv_file = drive.CreateFile({'id':\"11pnfuhO9lDEoLNmZvjf-Sb0U6bhmzjwR\"}) \n",
        "csv_file.GetContentFile(\"Film_Permits.csv\")"
      ]
    },
    {
      "cell_type": "code",
      "execution_count": 2,
      "metadata": {
        "id": "pPLc0sHZ10m1",
        "colab": {
          "base_uri": "https://localhost:8080/"
        },
        "outputId": "b9e5e720-c19b-4889-bbac-2241f9c130c9"
      },
      "outputs": [
        {
          "output_type": "stream",
          "name": "stdout",
          "text": [
            "Collecting pandasql\n",
            "  Downloading pandasql-0.7.3.tar.gz (26 kB)\n",
            "Requirement already satisfied: numpy in /usr/local/lib/python3.7/dist-packages (from pandasql) (1.19.5)\n",
            "Requirement already satisfied: pandas in /usr/local/lib/python3.7/dist-packages (from pandasql) (1.1.5)\n",
            "Requirement already satisfied: sqlalchemy in /usr/local/lib/python3.7/dist-packages (from pandasql) (1.4.27)\n",
            "Requirement already satisfied: python-dateutil>=2.7.3 in /usr/local/lib/python3.7/dist-packages (from pandas->pandasql) (2.8.2)\n",
            "Requirement already satisfied: pytz>=2017.2 in /usr/local/lib/python3.7/dist-packages (from pandas->pandasql) (2018.9)\n",
            "Requirement already satisfied: six>=1.5 in /usr/local/lib/python3.7/dist-packages (from python-dateutil>=2.7.3->pandas->pandasql) (1.15.0)\n",
            "Requirement already satisfied: importlib-metadata in /usr/local/lib/python3.7/dist-packages (from sqlalchemy->pandasql) (4.8.2)\n",
            "Requirement already satisfied: greenlet!=0.4.17 in /usr/local/lib/python3.7/dist-packages (from sqlalchemy->pandasql) (1.1.2)\n",
            "Requirement already satisfied: zipp>=0.5 in /usr/local/lib/python3.7/dist-packages (from importlib-metadata->sqlalchemy->pandasql) (3.6.0)\n",
            "Requirement already satisfied: typing-extensions>=3.6.4 in /usr/local/lib/python3.7/dist-packages (from importlib-metadata->sqlalchemy->pandasql) (3.10.0.2)\n",
            "Building wheels for collected packages: pandasql\n",
            "  Building wheel for pandasql (setup.py) ... \u001b[?25l\u001b[?25hdone\n",
            "  Created wheel for pandasql: filename=pandasql-0.7.3-py3-none-any.whl size=26781 sha256=02feeffaba45f2d2ff7715d921436f0b1e2706a8e994ab85a4b398e7fbfdc3cc\n",
            "  Stored in directory: /root/.cache/pip/wheels/5c/4b/ec/41f4e116c8053c3654e2c2a47c62b4fca34cc67ef7b55deb7f\n",
            "Successfully built pandasql\n",
            "Installing collected packages: pandasql\n",
            "Successfully installed pandasql-0.7.3\n"
          ]
        }
      ],
      "source": [
        "pip install pandasql"
      ]
    },
    {
      "cell_type": "code",
      "source": [
        "# importing libraries\n",
        "import pandas as pd \n",
        "import pandasql as psql\n",
        "import matplotlib.pyplot as plt"
      ],
      "metadata": {
        "id": "VGmHYv8oUo3e"
      },
      "execution_count": 3,
      "outputs": []
    },
    {
      "cell_type": "markdown",
      "source": [
        "### **Techniques**"
      ],
      "metadata": {
        "id": "brhMiX8hzs1Y"
      }
    },
    {
      "cell_type": "markdown",
      "source": [
        "Since the dataset contained all permits that are related to filming, I had to clean the data by using SQL to remove the rows that were not shooting permits. From there I noticed that some rows in the Zip Code(s) column had multiple values, so I created a list to hold all the zip codes and converted the list into a dataframe, zip_df, to be used in other parts of the project. Using the zip_df, I was able to create my bar graph visualizations by counting the number of times each zip code appeared in the list, since each occurrence of the zip code represented a permit in the zip code. For all the bar graph visualizations, I extracted the zip codes and graphed the top 25 zip codes with the most permits. Lastly, I also created a pie chart to show the breakdown of what type of filming event the permits were used for. "
      ],
      "metadata": {
        "id": "cMJ21iMoEIGY"
      }
    },
    {
      "cell_type": "code",
      "execution_count": 4,
      "metadata": {
        "id": "1V1MRXbickKU"
      },
      "outputs": [],
      "source": [
        "# Reading csv file\n",
        "film_file = pd.read_csv('Film_Permits.csv')"
      ]
    },
    {
      "cell_type": "code",
      "execution_count": 5,
      "metadata": {
        "id": "x-ipd0Q9nPWn",
        "colab": {
          "base_uri": "https://localhost:8080/",
          "height": 1000
        },
        "outputId": "67547fcd-5ce1-4d41-e118-932facfceb58"
      },
      "outputs": [
        {
          "output_type": "execute_result",
          "data": {
            "text/html": [
              "<div>\n",
              "<style scoped>\n",
              "    .dataframe tbody tr th:only-of-type {\n",
              "        vertical-align: middle;\n",
              "    }\n",
              "\n",
              "    .dataframe tbody tr th {\n",
              "        vertical-align: top;\n",
              "    }\n",
              "\n",
              "    .dataframe thead th {\n",
              "        text-align: right;\n",
              "    }\n",
              "</style>\n",
              "<table border=\"1\" class=\"dataframe\">\n",
              "  <thead>\n",
              "    <tr style=\"text-align: right;\">\n",
              "      <th></th>\n",
              "      <th>EventID</th>\n",
              "      <th>EventType</th>\n",
              "      <th>StartDateTime</th>\n",
              "      <th>EndDateTime</th>\n",
              "      <th>EnteredOn</th>\n",
              "      <th>EventAgency</th>\n",
              "      <th>ParkingHeld</th>\n",
              "      <th>Borough</th>\n",
              "      <th>CommunityBoard(s)</th>\n",
              "      <th>PolicePrecinct(s)</th>\n",
              "      <th>Category</th>\n",
              "      <th>SubCategoryName</th>\n",
              "      <th>Country</th>\n",
              "      <th>ZipCode(s)</th>\n",
              "    </tr>\n",
              "  </thead>\n",
              "  <tbody>\n",
              "    <tr>\n",
              "      <th>0</th>\n",
              "      <td>446040</td>\n",
              "      <td>Shooting Permit</td>\n",
              "      <td>10/19/2018 02:00:00 PM</td>\n",
              "      <td>10/20/2018 04:00:00 AM</td>\n",
              "      <td>10/16/2018 11:57:27 AM</td>\n",
              "      <td>Mayor's Office of Film, Theatre &amp; Broadcasting</td>\n",
              "      <td>THOMPSON STREET between PRINCE STREET and SPRI...</td>\n",
              "      <td>Manhattan</td>\n",
              "      <td>2</td>\n",
              "      <td>1</td>\n",
              "      <td>Television</td>\n",
              "      <td>Cable-episodic</td>\n",
              "      <td>United States of America</td>\n",
              "      <td>10012</td>\n",
              "    </tr>\n",
              "    <tr>\n",
              "      <th>1</th>\n",
              "      <td>446168</td>\n",
              "      <td>Shooting Permit</td>\n",
              "      <td>10/19/2018 02:00:00 PM</td>\n",
              "      <td>10/20/2018 02:00:00 AM</td>\n",
              "      <td>10/16/2018 07:03:56 PM</td>\n",
              "      <td>Mayor's Office of Film, Theatre &amp; Broadcasting</td>\n",
              "      <td>MARBLE HILL AVENUE between WEST  227 STREET an...</td>\n",
              "      <td>Manhattan</td>\n",
              "      <td>12, 8</td>\n",
              "      <td>34, 50</td>\n",
              "      <td>Film</td>\n",
              "      <td>Feature</td>\n",
              "      <td>United States of America</td>\n",
              "      <td>10034, 10463</td>\n",
              "    </tr>\n",
              "    <tr>\n",
              "      <th>2</th>\n",
              "      <td>186438</td>\n",
              "      <td>Shooting Permit</td>\n",
              "      <td>10/30/2014 07:00:00 AM</td>\n",
              "      <td>10/31/2014 02:00:00 AM</td>\n",
              "      <td>10/27/2014 12:14:15 PM</td>\n",
              "      <td>Mayor's Office of Film, Theatre &amp; Broadcasting</td>\n",
              "      <td>LAUREL HILL BLVD between REVIEW AVENUE and RUS...</td>\n",
              "      <td>Queens</td>\n",
              "      <td>2, 5</td>\n",
              "      <td>104, 108</td>\n",
              "      <td>Television</td>\n",
              "      <td>Episodic series</td>\n",
              "      <td>United States of America</td>\n",
              "      <td>11378</td>\n",
              "    </tr>\n",
              "    <tr>\n",
              "      <th>3</th>\n",
              "      <td>445255</td>\n",
              "      <td>Shooting Permit</td>\n",
              "      <td>10/20/2018 07:00:00 AM</td>\n",
              "      <td>10/20/2018 06:00:00 PM</td>\n",
              "      <td>10/09/2018 09:34:58 PM</td>\n",
              "      <td>Mayor's Office of Film, Theatre &amp; Broadcasting</td>\n",
              "      <td>JORALEMON STREET between BOERUM PLACE and COUR...</td>\n",
              "      <td>Brooklyn</td>\n",
              "      <td>2</td>\n",
              "      <td>84</td>\n",
              "      <td>Still Photography</td>\n",
              "      <td>Not Applicable</td>\n",
              "      <td>United States of America</td>\n",
              "      <td>11201</td>\n",
              "    </tr>\n",
              "    <tr>\n",
              "      <th>4</th>\n",
              "      <td>43547</td>\n",
              "      <td>Shooting Permit</td>\n",
              "      <td>01/10/2012 07:00:00 AM</td>\n",
              "      <td>01/10/2012 07:00:00 PM</td>\n",
              "      <td>01/04/2012 12:25:37 PM</td>\n",
              "      <td>Mayor's Office of Film, Theatre &amp; Broadcasting</td>\n",
              "      <td>EAGLE STREET between FRANKLIN STREET and WEST ...</td>\n",
              "      <td>Brooklyn</td>\n",
              "      <td>1, 2</td>\n",
              "      <td>108, 94</td>\n",
              "      <td>Television</td>\n",
              "      <td>Episodic series</td>\n",
              "      <td>United States of America</td>\n",
              "      <td>11101, 11222</td>\n",
              "    </tr>\n",
              "    <tr>\n",
              "      <th>...</th>\n",
              "      <td>...</td>\n",
              "      <td>...</td>\n",
              "      <td>...</td>\n",
              "      <td>...</td>\n",
              "      <td>...</td>\n",
              "      <td>...</td>\n",
              "      <td>...</td>\n",
              "      <td>...</td>\n",
              "      <td>...</td>\n",
              "      <td>...</td>\n",
              "      <td>...</td>\n",
              "      <td>...</td>\n",
              "      <td>...</td>\n",
              "      <td>...</td>\n",
              "    </tr>\n",
              "    <tr>\n",
              "      <th>62635</th>\n",
              "      <td>596093</td>\n",
              "      <td>Shooting Permit</td>\n",
              "      <td>08/09/2021 01:00:00 PM</td>\n",
              "      <td>08/09/2021 09:00:00 PM</td>\n",
              "      <td>08/06/2021 01:41:34 PM</td>\n",
              "      <td>Mayor's Office of Film, Theatre &amp; Broadcasting</td>\n",
              "      <td>3 AVENUE between EAST   52 STREET and EAST   5...</td>\n",
              "      <td>Manhattan</td>\n",
              "      <td>5, 6</td>\n",
              "      <td>17, 18</td>\n",
              "      <td>Television</td>\n",
              "      <td>Episodic series</td>\n",
              "      <td>United States of America</td>\n",
              "      <td>10017, 10022, 10154</td>\n",
              "    </tr>\n",
              "    <tr>\n",
              "      <th>62636</th>\n",
              "      <td>595120</td>\n",
              "      <td>Shooting Permit</td>\n",
              "      <td>08/09/2021 06:00:00 AM</td>\n",
              "      <td>08/09/2021 10:00:00 PM</td>\n",
              "      <td>08/02/2021 03:49:07 PM</td>\n",
              "      <td>Mayor's Office of Film, Theatre &amp; Broadcasting</td>\n",
              "      <td>PARK AVENUE SOUTH between EAST   23 STREET and...</td>\n",
              "      <td>Manhattan</td>\n",
              "      <td>5, 6</td>\n",
              "      <td>13</td>\n",
              "      <td>Film</td>\n",
              "      <td>Feature</td>\n",
              "      <td>United States of America</td>\n",
              "      <td>10010, 10016</td>\n",
              "    </tr>\n",
              "    <tr>\n",
              "      <th>62637</th>\n",
              "      <td>595073</td>\n",
              "      <td>Shooting Permit</td>\n",
              "      <td>08/09/2021 07:30:00 AM</td>\n",
              "      <td>08/09/2021 09:00:00 PM</td>\n",
              "      <td>08/02/2021 01:57:09 PM</td>\n",
              "      <td>Mayor's Office of Film, Theatre &amp; Broadcasting</td>\n",
              "      <td>BAY STREET between HYATT STREET and SLOSSON TE...</td>\n",
              "      <td>Staten Island</td>\n",
              "      <td>1</td>\n",
              "      <td>120, 121</td>\n",
              "      <td>Television</td>\n",
              "      <td>Cable-episodic</td>\n",
              "      <td>United States of America</td>\n",
              "      <td>10301, 10302</td>\n",
              "    </tr>\n",
              "    <tr>\n",
              "      <th>62638</th>\n",
              "      <td>595718</td>\n",
              "      <td>Shooting Permit</td>\n",
              "      <td>08/09/2021 08:00:00 AM</td>\n",
              "      <td>08/09/2021 11:00:00 PM</td>\n",
              "      <td>08/04/2021 07:36:26 PM</td>\n",
              "      <td>Mayor's Office of Film, Theatre &amp; Broadcasting</td>\n",
              "      <td>WEST  113 STREET between ADAM CLAYTON POWELL J...</td>\n",
              "      <td>Manhattan</td>\n",
              "      <td>10</td>\n",
              "      <td>28</td>\n",
              "      <td>Film</td>\n",
              "      <td>Feature</td>\n",
              "      <td>United States of America</td>\n",
              "      <td>10026</td>\n",
              "    </tr>\n",
              "    <tr>\n",
              "      <th>62639</th>\n",
              "      <td>595668</td>\n",
              "      <td>Shooting Permit</td>\n",
              "      <td>08/07/2021 06:00:00 AM</td>\n",
              "      <td>08/07/2021 09:00:00 PM</td>\n",
              "      <td>08/04/2021 03:57:47 PM</td>\n",
              "      <td>Mayor's Office of Film, Theatre &amp; Broadcasting</td>\n",
              "      <td>DELANCEY STREET NORTH between BARUCH DRIVE and...</td>\n",
              "      <td>Manhattan</td>\n",
              "      <td>3</td>\n",
              "      <td>7</td>\n",
              "      <td>Still Photography</td>\n",
              "      <td>Not Applicable</td>\n",
              "      <td>United States of America</td>\n",
              "      <td>10002</td>\n",
              "    </tr>\n",
              "  </tbody>\n",
              "</table>\n",
              "<p>62640 rows × 14 columns</p>\n",
              "</div>"
            ],
            "text/plain": [
              "       EventID        EventType  ...                   Country           ZipCode(s)\n",
              "0       446040  Shooting Permit  ...  United States of America                10012\n",
              "1       446168  Shooting Permit  ...  United States of America         10034, 10463\n",
              "2       186438  Shooting Permit  ...  United States of America                11378\n",
              "3       445255  Shooting Permit  ...  United States of America                11201\n",
              "4        43547  Shooting Permit  ...  United States of America         11101, 11222\n",
              "...        ...              ...  ...                       ...                  ...\n",
              "62635   596093  Shooting Permit  ...  United States of America  10017, 10022, 10154\n",
              "62636   595120  Shooting Permit  ...  United States of America         10010, 10016\n",
              "62637   595073  Shooting Permit  ...  United States of America         10301, 10302\n",
              "62638   595718  Shooting Permit  ...  United States of America                10026\n",
              "62639   595668  Shooting Permit  ...  United States of America                10002\n",
              "\n",
              "[62640 rows x 14 columns]"
            ]
          },
          "metadata": {},
          "execution_count": 5
        }
      ],
      "source": [
        "# Filter rows where EventType = Shooting Permit\n",
        "event_filter = 'SELECT * FROM film_file WHERE EventType = \"Shooting Permit\"'\n",
        "event = psql.sqldf(event_filter)\n",
        "event"
      ]
    },
    {
      "cell_type": "code",
      "source": [
        "# extracting the zip codes from the df\n",
        "zipcode_list = []\n",
        "for i in event['ZipCode(s)']:\n",
        "    temp = str(i).split(\", \")\n",
        "    for j in temp:\n",
        "        zipcode_list.append(j)\n",
        "\n",
        "# convert the extracted zip codes into a df \n",
        "zip_df = pd.DataFrame(zipcode_list, columns = ['Zip Codes'])\n",
        "zip_df"
      ],
      "metadata": {
        "id": "VUnaZb25TCEF",
        "colab": {
          "base_uri": "https://localhost:8080/",
          "height": 424
        },
        "outputId": "cf1b7216-c32d-444a-8241-9146fe10e3f3"
      },
      "execution_count": 6,
      "outputs": [
        {
          "output_type": "execute_result",
          "data": {
            "text/html": [
              "<div>\n",
              "<style scoped>\n",
              "    .dataframe tbody tr th:only-of-type {\n",
              "        vertical-align: middle;\n",
              "    }\n",
              "\n",
              "    .dataframe tbody tr th {\n",
              "        vertical-align: top;\n",
              "    }\n",
              "\n",
              "    .dataframe thead th {\n",
              "        text-align: right;\n",
              "    }\n",
              "</style>\n",
              "<table border=\"1\" class=\"dataframe\">\n",
              "  <thead>\n",
              "    <tr style=\"text-align: right;\">\n",
              "      <th></th>\n",
              "      <th>Zip Codes</th>\n",
              "    </tr>\n",
              "  </thead>\n",
              "  <tbody>\n",
              "    <tr>\n",
              "      <th>0</th>\n",
              "      <td>10012</td>\n",
              "    </tr>\n",
              "    <tr>\n",
              "      <th>1</th>\n",
              "      <td>10034</td>\n",
              "    </tr>\n",
              "    <tr>\n",
              "      <th>2</th>\n",
              "      <td>10463</td>\n",
              "    </tr>\n",
              "    <tr>\n",
              "      <th>3</th>\n",
              "      <td>11378</td>\n",
              "    </tr>\n",
              "    <tr>\n",
              "      <th>4</th>\n",
              "      <td>11201</td>\n",
              "    </tr>\n",
              "    <tr>\n",
              "      <th>...</th>\n",
              "      <td>...</td>\n",
              "    </tr>\n",
              "    <tr>\n",
              "      <th>95395</th>\n",
              "      <td>10016</td>\n",
              "    </tr>\n",
              "    <tr>\n",
              "      <th>95396</th>\n",
              "      <td>10301</td>\n",
              "    </tr>\n",
              "    <tr>\n",
              "      <th>95397</th>\n",
              "      <td>10302</td>\n",
              "    </tr>\n",
              "    <tr>\n",
              "      <th>95398</th>\n",
              "      <td>10026</td>\n",
              "    </tr>\n",
              "    <tr>\n",
              "      <th>95399</th>\n",
              "      <td>10002</td>\n",
              "    </tr>\n",
              "  </tbody>\n",
              "</table>\n",
              "<p>95400 rows × 1 columns</p>\n",
              "</div>"
            ],
            "text/plain": [
              "      Zip Codes\n",
              "0         10012\n",
              "1         10034\n",
              "2         10463\n",
              "3         11378\n",
              "4         11201\n",
              "...         ...\n",
              "95395     10016\n",
              "95396     10301\n",
              "95397     10302\n",
              "95398     10026\n",
              "95399     10002\n",
              "\n",
              "[95400 rows x 1 columns]"
            ]
          },
          "metadata": {},
          "execution_count": 6
        }
      ]
    },
    {
      "cell_type": "code",
      "source": [
        "# Find the top 25 zip codes used for filming locations in NYC \n",
        "print(\"Zip Code\", \"Total\")\n",
        "print(zip_df['Zip Codes'].value_counts()[:25])"
      ],
      "metadata": {
        "id": "p_OQ0zgQW615",
        "colab": {
          "base_uri": "https://localhost:8080/"
        },
        "outputId": "2d8cb602-17e2-4179-cbf6-9248ff0a0e39"
      },
      "execution_count": 7,
      "outputs": [
        {
          "output_type": "stream",
          "name": "stdout",
          "text": [
            "Zip Code Total\n",
            "11222    8340\n",
            "11101    6413\n",
            "10036    4006\n",
            "10011    3041\n",
            "10013    2754\n",
            "11201    2644\n",
            "10019    2630\n",
            "10003    2380\n",
            "10012    2188\n",
            "10001    2187\n",
            "10014    2173\n",
            "10002    2067\n",
            "11211    1809\n",
            "11106    1779\n",
            "11249    1660\n",
            "11385    1605\n",
            "10023    1565\n",
            "10022    1556\n",
            "11237    1548\n",
            "11217    1394\n",
            "10017    1322\n",
            "10010    1293\n",
            "10018    1245\n",
            "11231    1129\n",
            "10027    1094\n",
            "Name: Zip Codes, dtype: int64\n"
          ]
        }
      ]
    },
    {
      "cell_type": "code",
      "source": [
        "# Graph the top 25 zip codes in NYC \n",
        "zip_df['Zip Codes'].value_counts()[:25].plot(kind = 'bar')\n",
        "plt.title('Top 25 Most Popular Filming Zip Codes Around NYC')\n",
        "plt.xlabel('Zip Codes')\n",
        "plt.xticks(rotation = 90)\n",
        "plt.ylabel('Number of Film Permits')\n",
        "plt.show()"
      ],
      "metadata": {
        "id": "8p36ZJDPTK-j",
        "colab": {
          "base_uri": "https://localhost:8080/",
          "height": 317
        },
        "outputId": "5ec9e6fc-4324-4f79-d2f1-e25d2caf95f1"
      },
      "execution_count": 8,
      "outputs": [
        {
          "output_type": "display_data",
          "data": {
            "image/png": "[encoded data removed]",
            "text/plain": [
              "<Figure size 432x288 with 1 Axes>"
            ]
          },
          "metadata": {
            "needs_background": "light"
          }
        }
      ]
    },
    {
      "cell_type": "code",
      "source": [
        "# Extract zip codes located in Manhattan\n",
        "manhattan_list = []\n",
        "for i in zip_df['Zip Codes']:\n",
        "  if i.isdigit() == True:\n",
        "    if (int(i) > 10000) & (int(i) < 10283):\n",
        "      manhattan_list.append(i)\n",
        "\n",
        "# Convert extracted zip codes into a dataframe\n",
        "manhattan_df = pd.DataFrame(manhattan_list, columns = ['Zip Codes'])"
      ],
      "metadata": {
        "id": "nrz_u4WnYfSK"
      },
      "execution_count": 9,
      "outputs": []
    },
    {
      "cell_type": "code",
      "source": [
        "# Top 25 zip codes in Manhattan\n",
        "print(\"Zip Code\", \"Total\")\n",
        "print(manhattan_df['Zip Codes'].value_counts()[:25])"
      ],
      "metadata": {
        "id": "wR5pMtjnbweW",
        "colab": {
          "base_uri": "https://localhost:8080/"
        },
        "outputId": "e9cb0bed-05be-4417-dccf-b04788cdf0ca"
      },
      "execution_count": 10,
      "outputs": [
        {
          "output_type": "stream",
          "name": "stdout",
          "text": [
            "Zip Code Total\n",
            "10036    4006\n",
            "10011    3041\n",
            "10013    2754\n",
            "10019    2630\n",
            "10003    2380\n",
            "10012    2188\n",
            "10001    2187\n",
            "10014    2173\n",
            "10002    2067\n",
            "10023    1565\n",
            "10022    1556\n",
            "10017    1322\n",
            "10010    1293\n",
            "10018    1245\n",
            "10027    1094\n",
            "10016    1065\n",
            "10065     984\n",
            "10038     976\n",
            "10024     820\n",
            "10007     777\n",
            "10005     766\n",
            "10021     756\n",
            "10025     719\n",
            "10004     662\n",
            "10009     651\n",
            "Name: Zip Codes, dtype: int64\n"
          ]
        }
      ]
    },
    {
      "cell_type": "code",
      "source": [
        "# Graph the top 25 zip codes in Manhattan \n",
        "manhattan_df['Zip Codes'].value_counts()[:25].plot(kind = 'bar')\n",
        "plt.title('Top 25 Filming Zip Codes in Manhattan')\n",
        "plt.xlabel('Zip Codes')\n",
        "plt.xticks(rotation = 90)\n",
        "plt.ylabel('Number of Film Permits')\n",
        "plt.show()"
      ],
      "metadata": {
        "colab": {
          "base_uri": "https://localhost:8080/",
          "height": 317
        },
        "id": "XDDYPnqDcEs1",
        "outputId": "a953c804-5b3f-4ae6-c5fd-43b29bac8520"
      },
      "execution_count": 11,
      "outputs": [
        {
          "output_type": "display_data",
          "data": {
            "image/png": "[encoded data removed]",
            "text/plain": [
              "<Figure size 432x288 with 1 Axes>"
            ]
          },
          "metadata": {
            "needs_background": "light"
          }
        }
      ]
    },
    {
      "cell_type": "code",
      "source": [
        "# Extract zip codes located in Brooklyn\n",
        "brooklyn_list = []\n",
        "for i in zip_df['Zip Codes']:\n",
        "  if i.isdigit() == True:\n",
        "    if (int(i) > 11200) & (int(i) < 11257):\n",
        "      brooklyn_list.append(i)\n",
        "\n",
        "# Convert extracted zip codes into a dataframe\n",
        "brooklyn_df = pd.DataFrame(brooklyn_list, columns = ['Zip Codes'])"
      ],
      "metadata": {
        "id": "8dibjH9wccq_"
      },
      "execution_count": 12,
      "outputs": []
    },
    {
      "cell_type": "code",
      "source": [
        "# Top 25 zip codes in Brooklyn\n",
        "print(\"Zip Code\", \"Total\")\n",
        "print(brooklyn_df['Zip Codes'].value_counts()[:25])"
      ],
      "metadata": {
        "id": "pDmpUkTbc_9V",
        "colab": {
          "base_uri": "https://localhost:8080/"
        },
        "outputId": "c9b598c9-15f8-4e8c-f22a-9bf49ba185ae"
      },
      "execution_count": 13,
      "outputs": [
        {
          "output_type": "stream",
          "name": "stdout",
          "text": [
            "Zip Code Total\n",
            "11222    8340\n",
            "11201    2644\n",
            "11211    1809\n",
            "11249    1660\n",
            "11237    1548\n",
            "11217    1394\n",
            "11231    1129\n",
            "11205    1050\n",
            "11215     922\n",
            "11206     841\n",
            "11238     772\n",
            "11226     747\n",
            "11232     549\n",
            "11218     509\n",
            "11216     443\n",
            "11225     365\n",
            "11220     337\n",
            "11221     323\n",
            "11207     297\n",
            "11230     294\n",
            "11224     244\n",
            "11209     206\n",
            "11203     174\n",
            "11233     169\n",
            "11210     139\n",
            "Name: Zip Codes, dtype: int64\n"
          ]
        }
      ]
    },
    {
      "cell_type": "code",
      "source": [
        "# Graph the top 25 zip codes in Brooklyn \n",
        "brooklyn_df['Zip Codes'].value_counts()[:25].plot(kind = 'bar')\n",
        "plt.title('Top 25 Filming Zip Codes in Brooklyn')\n",
        "plt.xlabel('Zip Codes')\n",
        "plt.xticks(rotation = 90)\n",
        "plt.ylabel('Number of Film Permits')\n",
        "plt.show()"
      ],
      "metadata": {
        "id": "o3waCSctc_yp",
        "colab": {
          "base_uri": "https://localhost:8080/",
          "height": 317
        },
        "outputId": "ba2ac020-e2ed-41ca-b988-58cefdd5a867"
      },
      "execution_count": 14,
      "outputs": [
        {
          "output_type": "display_data",
          "data": {
            "image/png": "[encoded data removed]",
            "text/plain": [
              "<Figure size 432x288 with 1 Axes>"
            ]
          },
          "metadata": {
            "needs_background": "light"
          }
        }
      ]
    },
    {
      "cell_type": "code",
      "source": [
        "# Extract zip codes located in Queens\n",
        "queens_list = []\n",
        "for i in zip_df['Zip Codes']:\n",
        "  if i.isdigit() == True:\n",
        "    if ((int(i) > 11000) & (int(i) < 11110)) | ((int(i) > 11350) & (int(i) < 11386)) | ((int(i) > 11410) & (int(i) < 11437)) | ((int(i) > 11690) & (int(i) < 11698)):\n",
        "      queens_list.append(i)\n",
        "\n",
        "# Convert extracted zip codes into a dataframe\n",
        "queens_df = pd.DataFrame(queens_list, columns = ['Zip Codes'])"
      ],
      "metadata": {
        "id": "7qmXRBNTfSWo"
      },
      "execution_count": 15,
      "outputs": []
    },
    {
      "cell_type": "code",
      "source": [
        "# Top 25 zip codes in Queens\n",
        "print(\"Zip Code\", \"Total\")\n",
        "print(queens_df['Zip Codes'].value_counts()[:25])"
      ],
      "metadata": {
        "colab": {
          "base_uri": "https://localhost:8080/"
        },
        "id": "7ALi87LHfQci",
        "outputId": "f35a8366-406f-4934-f6eb-9c02becc1399"
      },
      "execution_count": 16,
      "outputs": [
        {
          "output_type": "stream",
          "name": "stdout",
          "text": [
            "Zip Code Total\n",
            "11101    6413\n",
            "11106    1779\n",
            "11385    1605\n",
            "11105     462\n",
            "11378     455\n",
            "11415     326\n",
            "11102     280\n",
            "11375     235\n",
            "11104     231\n",
            "11377     225\n",
            "11357     188\n",
            "11363     187\n",
            "11103     178\n",
            "11418     159\n",
            "11109     158\n",
            "11379     139\n",
            "11435     131\n",
            "11374     128\n",
            "11367     125\n",
            "11421     118\n",
            "11361     117\n",
            "11373     114\n",
            "11694     107\n",
            "11432     102\n",
            "11354      93\n",
            "Name: Zip Codes, dtype: int64\n"
          ]
        }
      ]
    },
    {
      "cell_type": "code",
      "source": [
        "# Graph the top 25 zip codes in Queens\n",
        "queens_df['Zip Codes'].value_counts()[:25].plot(kind = 'bar')\n",
        "plt.title('Top 25 Filming Zip Codes in Queens')\n",
        "plt.xlabel('Zip Codes')\n",
        "plt.xticks(rotation = 90)\n",
        "plt.ylabel('Number of Film Permits')\n",
        "plt.show()"
      ],
      "metadata": {
        "colab": {
          "base_uri": "https://localhost:8080/",
          "height": 317
        },
        "id": "8cHxavOEfQTc",
        "outputId": "b1eee81d-3275-49e1-95a3-854f8a1b5ae9"
      },
      "execution_count": 17,
      "outputs": [
        {
          "output_type": "display_data",
          "data": {
            "image/png": "[encoded data removed]",
            "text/plain": [
              "<Figure size 432x288 with 1 Axes>"
            ]
          },
          "metadata": {
            "needs_background": "light"
          }
        }
      ]
    },
    {
      "cell_type": "code",
      "source": [
        "# Extract zip codes located in Bronx\n",
        "bronx_list = []\n",
        "for i in zip_df['Zip Codes']:\n",
        "  if i.isdigit() == True:\n",
        "    if (int(i) > 10450) & (int(i) < 10476):\n",
        "      bronx_list.append(i)\n",
        "\n",
        "# Convert extracted zip codes into a dataframe\n",
        "bronx_df = pd.DataFrame(bronx_list, columns = ['Zip Codes'])"
      ],
      "metadata": {
        "id": "D0tGyhXuhwg5"
      },
      "execution_count": 18,
      "outputs": []
    },
    {
      "cell_type": "code",
      "source": [
        "# Top 25 zip codes in Bronx\n",
        "print(\"Zip Code\", \"Total\")\n",
        "print(bronx_df['Zip Codes'].value_counts()[:25])"
      ],
      "metadata": {
        "colab": {
          "base_uri": "https://localhost:8080/"
        },
        "id": "skXNDDwohwPr",
        "outputId": "4818981a-9418-40b0-c9a0-144849bef3b1"
      },
      "execution_count": 19,
      "outputs": [
        {
          "output_type": "stream",
          "name": "stdout",
          "text": [
            "Zip Code Total\n",
            "10454    691\n",
            "10451    251\n",
            "10474    228\n",
            "10452    173\n",
            "10458    171\n",
            "10457    148\n",
            "10471    148\n",
            "10468    132\n",
            "10473    126\n",
            "10453    101\n",
            "10456     94\n",
            "10463     88\n",
            "10464     61\n",
            "10455     58\n",
            "10466     49\n",
            "10470     48\n",
            "10461     46\n",
            "10467     45\n",
            "10465     40\n",
            "10459     38\n",
            "10462     37\n",
            "10472     26\n",
            "10460     25\n",
            "10469     25\n",
            "10475     20\n",
            "Name: Zip Codes, dtype: int64\n"
          ]
        }
      ]
    },
    {
      "cell_type": "code",
      "source": [
        "# Graph the top 25 zip codes in Bronx \n",
        "bronx_df['Zip Codes'].value_counts()[:25].plot(kind = 'bar')\n",
        "plt.title('Top 25 Filming Zip Codes in Bronx')\n",
        "plt.xlabel('Zip Codes')\n",
        "plt.xticks(rotation = 90)\n",
        "plt.ylabel('Number of Film Permits')\n",
        "plt.show()"
      ],
      "metadata": {
        "colab": {
          "base_uri": "https://localhost:8080/",
          "height": 317
        },
        "id": "5syswpyvhwHb",
        "outputId": "ca7e1dd2-5e50-4e38-b48e-33e6a992c64a"
      },
      "execution_count": 20,
      "outputs": [
        {
          "output_type": "display_data",
          "data": {
            "image/png": "[encoded data removed]",
            "text/plain": [
              "<Figure size 432x288 with 1 Axes>"
            ]
          },
          "metadata": {
            "needs_background": "light"
          }
        }
      ]
    },
    {
      "cell_type": "code",
      "source": [
        "# Since Staten Island has less than 25 zip codes, I decided to show and graph the total of permits in all the zip codes\n",
        "# Extract zip codes located in Staten Island\n",
        "staten_list = []\n",
        "for i in zip_df['Zip Codes']:\n",
        "  if i.isdigit() == True:\n",
        "    if (int(i) > 10300) & (int(i) < 10315):\n",
        "      staten_list.append(i)\n",
        "\n",
        "# Convert extracted zip codes into a dataframe\n",
        "staten_df = pd.DataFrame(staten_list, columns = ['Zip Codes'])"
      ],
      "metadata": {
        "id": "xATXiBgAhwAb"
      },
      "execution_count": 21,
      "outputs": []
    },
    {
      "cell_type": "code",
      "source": [
        "# Filming zip codes in Staten Island\n",
        "print(\"Zip Code\", \"Total\")\n",
        "print(staten_df['Zip Codes'].value_counts()[:25])"
      ],
      "metadata": {
        "colab": {
          "base_uri": "https://localhost:8080/"
        },
        "id": "qjg0wBknhv5k",
        "outputId": "b1f047dd-ec34-4648-e25f-6bd278e0e6a7"
      },
      "execution_count": 22,
      "outputs": [
        {
          "output_type": "stream",
          "name": "stdout",
          "text": [
            "Zip Code Total\n",
            "10301    245\n",
            "10304    179\n",
            "10309    135\n",
            "10310    134\n",
            "10302     91\n",
            "10314     85\n",
            "10305     82\n",
            "10306     81\n",
            "10303     60\n",
            "10307     44\n",
            "10308     28\n",
            "10312     27\n",
            "Name: Zip Codes, dtype: int64\n"
          ]
        }
      ]
    },
    {
      "cell_type": "code",
      "source": [
        "# Graph the filming zip codes in Staten Island \n",
        "staten_df['Zip Codes'].value_counts()[:25].plot(kind = 'bar')\n",
        "plt.title('Filming Zip Codes in Staten Island')\n",
        "plt.xlabel('Zip Codes')\n",
        "plt.xticks(rotation = 90)\n",
        "plt.ylabel('Number of Film Permits')\n",
        "plt.show()"
      ],
      "metadata": {
        "colab": {
          "base_uri": "https://localhost:8080/",
          "height": 317
        },
        "id": "NFYR6ORehvyg",
        "outputId": "ec3924ee-fd3d-4337-bbbe-81885c38eca8"
      },
      "execution_count": 23,
      "outputs": [
        {
          "output_type": "display_data",
          "data": {
            "image/png": "[encoded data removed]",
            "text/plain": [
              "<Figure size 432x288 with 1 Axes>"
            ]
          },
          "metadata": {
            "needs_background": "light"
          }
        }
      ]
    },
    {
      "cell_type": "code",
      "source": [
        "# breakdown of what category the film permits are used for \n",
        "category_count = event['Category'].value_counts()\n",
        "percentage = []\n",
        "for i in category_count:\n",
        "  percentage.append(round(i/sum(category_count)*100, 1))\n",
        "\n",
        "print(\"Category\", \"\\t  \", \"Total Permits\")\n",
        "print(category_count)\n",
        "print(\"Percentage break down: \", percentage)"
      ],
      "metadata": {
        "colab": {
          "base_uri": "https://localhost:8080/"
        },
        "id": "fr4D9o1MoacO",
        "outputId": "4d27d4ca-5ff9-4645-fafd-ece54fbebacb"
      },
      "execution_count": 24,
      "outputs": [
        {
          "output_type": "stream",
          "name": "stdout",
          "text": [
            "Category \t   Total Permits\n",
            "Television             38156\n",
            "Film                   10671\n",
            "Commercial              5555\n",
            "Still Photography       4177\n",
            "WEB                     2574\n",
            "Theater                  669\n",
            "Documentary              307\n",
            "Student                  291\n",
            "Music Video              239\n",
            "Red Carpet/Premiere        1\n",
            "Name: Category, dtype: int64\n",
            "Percentage break down:  [60.9, 17.0, 8.9, 6.7, 4.1, 1.1, 0.5, 0.5, 0.4, 0.0]\n"
          ]
        }
      ]
    },
    {
      "cell_type": "code",
      "source": [
        "# Create pie chart to see what the film permits are used for\n",
        "category_count = event['Category'].value_counts()\n",
        "category_count.plot.pie(explode = [0.05, 0.05, 0.05, 0.05, 0.05, 0.05, 0.05, 0.05, 0.05, 0.05], autopct='%1.1f%%', figsize=(10,10))\n",
        "plt.title('Film Permits Percentage for Each Category')\n",
        "plt.ylabel('')\n",
        "plt.show()"
      ],
      "metadata": {
        "colab": {
          "base_uri": "https://localhost:8080/",
          "height": 591
        },
        "id": "c7XTsI7ImPxS",
        "outputId": "4c56d764-24b0-4f65-bf40-ccc76987c64d"
      },
      "execution_count": 25,
      "outputs": [
        {
          "output_type": "display_data",
          "data": {
            "image/png": "[encoded data removed]",
            "text/plain": [
              "<Figure size 720x720 with 1 Axes>"
            ]
          },
          "metadata": {}
        }
      ]
    },
    {
      "cell_type": "markdown",
      "metadata": {
        "id": "FoicNKR5hYHI"
      },
      "source": [
        "### **Resources**\n"
      ]
    },
    {
      "cell_type": "markdown",
      "source": [
        "*  Dataset: https://data.cityofnewyork.us/City-Government/Film-Permits/tg4x-b46p \n",
        "*  Loading Data Onto Colab: https://towardsdatascience.com/3-ways-to-load-csv-files-into-colab-7c14fcbdcb92 \n",
        "*  Zip Codes for Each Borough: https://www.nycbynatives.com/nyc_info/new_york_city_zip_codes.php  \n",
        "*  Bar Graph: https://mode.com/python-tutorial/counting-and-plotting-in-python/ \n",
        "*  Pie Chart: https://www.sisense.com/blog/data-visualizations-in-python-and-r/ \n",
        "*  Image Credit: https://www.prospecthill.com/blog/navigating-2016-virginia-film-festival "
      ],
      "metadata": {
        "id": "ElSNnOcBGOWL"
      }
    }
  ],
  "metadata": {
    "colab": {
      "collapsed_sections": [],
      "name": "Data_Science_Project.ipynb",
      "provenance": [],
      "authorship_tag": "ABX9TyOT2VOX+uesbwX2b8ukE0DQ",
      "include_colab_link": true
    },
    "kernelspec": {
      "display_name": "Python 3",
      "name": "python3"
    },
    "language_info": {
      "name": "python"
    }
  },
  "nbformat": 4,
  "nbformat_minor": 0
}