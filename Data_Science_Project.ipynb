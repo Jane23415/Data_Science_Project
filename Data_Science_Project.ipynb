{
  "nbformat": 4,
  "nbformat_minor": 0,
  "metadata": {
    "colab": {
      "name": "Data_Science_Project.ipynb",
      "provenance": [],
      "collapsed_sections": [],
      "authorship_tag": "ABX9TyMDwuNAz0aCOZ97s1Aan8yu",
      "include_colab_link": true
    },
    "kernelspec": {
      "display_name": "Python 3",
      "name": "python3"
    },
    "language_info": {
      "name": "python"
    }
  },
  "cells": [
    {
      "cell_type": "markdown",
      "metadata": {
        "id": "view-in-github",
        "colab_type": "text"
      },
      "source": [
        "<a href=\"https://colab.research.google.com/github/Jane23415/Data_Science_Project/blob/main/Data_Science_Project.ipynb\" target=\"_parent\"><img src=\"https://colab.research.google.com/assets/colab-badge.svg\" alt=\"Open In Colab\"/></a>"
      ]
    },
    {
      "cell_type": "code",
      "metadata": {
        "id": "qYNYC8fdoB6x"
      },
      "source": [
        "# Code to read csv file into Colaboratory:\n",
        "!pip install -U -q PyDrive\n",
        "from pydrive.auth import GoogleAuth\n",
        "from pydrive.drive import GoogleDrive\n",
        "from google.colab import auth\n",
        "from oauth2client.client import GoogleCredentials\n",
        "# Authenticate and create the PyDrive client.\n",
        "auth.authenticate_user()\n",
        "gauth = GoogleAuth()\n",
        "gauth.credentials = GoogleCredentials.get_application_default()\n",
        "drive = GoogleDrive(gauth)\n",
        "\n",
        "downloaded = drive.CreateFile({'id':\"11pnfuhO9lDEoLNmZvjf-Sb0U6bhmzjwR\"}) \n",
        "downloaded.GetContentFile(\"Film_Permits.csv\")  "
      ],
      "execution_count": 2,
      "outputs": []
    },
    {
      "cell_type": "code",
      "metadata": {
        "colab": {
          "base_uri": "https://localhost:8080/"
        },
        "id": "pPLc0sHZ10m1",
        "outputId": "afacb85d-125d-407d-f702-ba38ecd8e935"
      },
      "source": [
        "pip install pandasql"
      ],
      "execution_count": 5,
      "outputs": [
        {
          "output_type": "stream",
          "name": "stdout",
          "text": [
            "Collecting pandasql\n",
            "  Downloading pandasql-0.7.3.tar.gz (26 kB)\n",
            "Requirement already satisfied: numpy in /usr/local/lib/python3.7/dist-packages (from pandasql) (1.19.5)\n",
            "Requirement already satisfied: pandas in /usr/local/lib/python3.7/dist-packages (from pandasql) (1.1.5)\n",
            "Requirement already satisfied: sqlalchemy in /usr/local/lib/python3.7/dist-packages (from pandasql) (1.4.27)\n",
            "Requirement already satisfied: python-dateutil>=2.7.3 in /usr/local/lib/python3.7/dist-packages (from pandas->pandasql) (2.8.2)\n",
            "Requirement already satisfied: pytz>=2017.2 in /usr/local/lib/python3.7/dist-packages (from pandas->pandasql) (2018.9)\n",
            "Requirement already satisfied: six>=1.5 in /usr/local/lib/python3.7/dist-packages (from python-dateutil>=2.7.3->pandas->pandasql) (1.15.0)\n",
            "Requirement already satisfied: importlib-metadata in /usr/local/lib/python3.7/dist-packages (from sqlalchemy->pandasql) (4.8.2)\n",
            "Requirement already satisfied: greenlet!=0.4.17 in /usr/local/lib/python3.7/dist-packages (from sqlalchemy->pandasql) (1.1.2)\n",
            "Requirement already satisfied: typing-extensions>=3.6.4 in /usr/local/lib/python3.7/dist-packages (from importlib-metadata->sqlalchemy->pandasql) (3.10.0.2)\n",
            "Requirement already satisfied: zipp>=0.5 in /usr/local/lib/python3.7/dist-packages (from importlib-metadata->sqlalchemy->pandasql) (3.6.0)\n",
            "Building wheels for collected packages: pandasql\n",
            "  Building wheel for pandasql (setup.py) ... \u001b[?25l\u001b[?25hdone\n",
            "  Created wheel for pandasql: filename=pandasql-0.7.3-py3-none-any.whl size=26781 sha256=d5648bb9dced9757f3be1da18a4a891f6e13ca204a860553bdfed6fa19d1f7d3\n",
            "  Stored in directory: /root/.cache/pip/wheels/5c/4b/ec/41f4e116c8053c3654e2c2a47c62b4fca34cc67ef7b55deb7f\n",
            "Successfully built pandasql\n",
            "Installing collected packages: pandasql\n",
            "Successfully installed pandasql-0.7.3\n"
          ]
        }
      ]
    },
    {
      "cell_type": "code",
      "metadata": {
        "id": "EzhLCIvmgNr3"
      },
      "source": [
        "import folium\n",
        "import pandas as pd \n",
        "import pandasql as psql\n",
        "import matplotlib.pyplot as plt\n",
        "from collections import Counter\n"
      ],
      "execution_count": 6,
      "outputs": []
    },
    {
      "cell_type": "code",
      "metadata": {
        "id": "1V1MRXbickKU"
      },
      "source": [
        "# Reading csv file\n",
        "film_file = pd.read_csv('Film_Permits.csv')"
      ],
      "execution_count": 8,
      "outputs": []
    },
    {
      "cell_type": "code",
      "metadata": {
        "id": "x-ipd0Q9nPWn"
      },
      "source": [
        "# Filter rows where EventType = Shooting Permit\n",
        "event_filter = 'SELECT * FROM film_file WHERE EventType = \"Shooting Permit\"'\n",
        "event = psql.sqldf(event_filter)\n",
        "event"
      ],
      "execution_count": null,
      "outputs": []
    },
    {
      "cell_type": "code",
      "metadata": {
        "id": "NVlwTeyDnPQX",
        "colab": {
          "base_uri": "https://localhost:8080/",
          "height": 317
        },
        "outputId": "f8f37d4a-8601-4cae-9ab3-00b4b5bd3057"
      },
      "source": [
        "# Finding the most popular zip codes used for filming locations in NYC \n",
        "zipcode_list = []\n",
        "for i in event['ZipCode(s)']:\n",
        "    temp = str(i).split(\", \")\n",
        "    for j in temp:\n",
        "        zipcode_list.append(j)\n",
        "\n",
        "# Graph the 25 most popular zip codes in NYC \n",
        "zip_dict = Counter(zipcode_list).most_common(25)\n",
        "\n",
        "zip_keys = [x[0] for x in zip_dict]\n",
        "zip_values = [x[1] for x in zip_dict]\n",
        "\n",
        "top_zip = plt.bar(zip_keys, zip_values)\n",
        "plt.title('Top 25 Most Popular Filming Zip Codes Aroung NYC')\n",
        "plt.xlabel('Zip Codes')\n",
        "plt.xticks(rotation = 90)\n",
        "plt.ylabel('Number of Film Permits')\n",
        "plt.show()"
      ],
      "execution_count": 41,
      "outputs": [
        {
          "output_type": "display_data",
          "data": {
            "image/png": "[encoded data removed]",
            "text/plain": [
              "<Figure size 432x288 with 1 Axes>"
            ]
          },
          "metadata": {
            "needs_background": "light"
          }
        }
      ]
    },
    {
      "cell_type": "code",
      "metadata": {
        "colab": {
          "base_uri": "https://localhost:8080/"
        },
        "id": "HgrxLJJdLR6Q",
        "outputId": "81f17fda-1ad6-4938-fb4f-3eb4944d3ee0"
      },
      "source": [
        "print(\"Zip Code\", \"\", \"Total\")\n",
        "for i in zip_dict:\n",
        "  print(i[0], \" \\t \", i[1])"
      ],
      "execution_count": 36,
      "outputs": [
        {
          "output_type": "stream",
          "name": "stdout",
          "text": [
            "Zip Code  Total\n",
            "11222  \t  8340\n",
            "11101  \t  6413\n",
            "10036  \t  4006\n",
            "10011  \t  3041\n",
            "10013  \t  2754\n",
            "11201  \t  2644\n",
            "10019  \t  2630\n",
            "10003  \t  2380\n",
            "10012  \t  2188\n",
            "10001  \t  2187\n",
            "10014  \t  2173\n",
            "10002  \t  2067\n",
            "11211  \t  1809\n",
            "11106  \t  1779\n",
            "11249  \t  1660\n",
            "11385  \t  1605\n",
            "10023  \t  1565\n",
            "10022  \t  1556\n",
            "11237  \t  1548\n",
            "11217  \t  1394\n",
            "10017  \t  1322\n",
            "10010  \t  1293\n",
            "10018  \t  1245\n",
            "11231  \t  1129\n",
            "10027  \t  1094\n"
          ]
        }
      ]
    },
    {
      "cell_type": "code",
      "metadata": {
        "id": "ipTI8kRWnPK3",
        "colab": {
          "base_uri": "https://localhost:8080/",
          "height": 482
        },
        "outputId": "77258b7f-c393-45f6-b2d9-5c9b0d3b08ad"
      },
      "source": [
        "# Create pie chart to see which borough most filming locations are in\n",
        "borough_count = event['Borough'].value_counts()\n",
        "borough_count.plot.pie(explode = [0.05, 0.05, 0.05, 0.05, 0.05], autopct='%1.1f%%',figsize=(8,8))\n",
        "plt.title('Film Permits Percentage for Each Borough')\n",
        "plt.ylabel('')\n",
        "plt.show()"
      ],
      "execution_count": 20,
      "outputs": [
        {
          "output_type": "display_data",
          "data": {
            "image/png": "[encoded data removed]",
            "text/plain": [
              "<Figure size 576x576 with 1 Axes>"
            ]
          },
          "metadata": {}
        }
      ]
    },
    {
      "cell_type": "code",
      "metadata": {
        "id": "KgekEguanPEa",
        "colab": {
          "base_uri": "https://localhost:8080/"
        },
        "outputId": "fe09dc26-e688-4d6a-91a4-d2a60757d890"
      },
      "source": [
        "# Print out the total number of filming permits in each borough\n",
        "print(\"Borough\", \"\\t\", \"Total\")\n",
        "print(borough_count)"
      ],
      "execution_count": 39,
      "outputs": [
        {
          "output_type": "stream",
          "name": "stdout",
          "text": [
            "Borough \t Total\n",
            "Manhattan        27727\n",
            "Brooklyn         20654\n",
            "Queens           11267\n",
            "Bronx             2070\n",
            "Staten Island      922\n",
            "Name: Borough, dtype: int64\n"
          ]
        }
      ]
    },
    {
      "cell_type": "code",
      "metadata": {
        "id": "8uX2q2qAnO_N"
      },
      "source": [
        "# Filter rows where Borough = Manhattan\n",
        "manhattan_filter = 'SELECT * FROM event WHERE Borough = \"Manhattan\"'\n",
        "manhattan = psql.sqldf(manhattan_filter)\n",
        "manhattan"
      ],
      "execution_count": null,
      "outputs": []
    },
    {
      "cell_type": "code",
      "metadata": {
        "colab": {
          "base_uri": "https://localhost:8080/",
          "height": 317
        },
        "id": "rfzZNOp8AYuQ",
        "outputId": "bedf089e-1f07-48c2-87da-6f3e5e161efc"
      },
      "source": [
        "# Finding the most popular zip codes used for filming locations in Manhattan \n",
        "manhattan_list = []\n",
        "for i in manhattan['ZipCode(s)']:\n",
        "    temp = str(i).split(\", \")\n",
        "    for j in temp:\n",
        "        manhattan_list.append(j)\n",
        "\n",
        "# Graph the 25 most popular zip codes in Manhattan\n",
        "manhattan_dict = Counter(manhattan_list).most_common(25)\n",
        "\n",
        "manhattan_keys = [x[0] for x in manhattan_dict]\n",
        "manhattan_values = [x[1] for x in manhattan_dict]\n",
        "\n",
        "manhattan_zip = plt.bar(manhattan_keys, manhattan_values)\n",
        "plt.title('Top 25 Most Popular Filming Zip Codes in Manhattan')\n",
        "plt.xlabel('Zip Codes')\n",
        "plt.xticks(rotation = 90)\n",
        "plt.ylabel('Number of Film Permits')\n",
        "plt.show()"
      ],
      "execution_count": 42,
      "outputs": [
        {
          "output_type": "display_data",
          "data": {
            "image/png": "[encoded data removed]",
            "text/plain": [
              "<Figure size 432x288 with 1 Axes>"
            ]
          },
          "metadata": {
            "needs_background": "light"
          }
        }
      ]
    },
    {
      "cell_type": "code",
      "metadata": {
        "colab": {
          "base_uri": "https://localhost:8080/"
        },
        "id": "1b69lbUDNw1u",
        "outputId": "4cfd2dc4-3ffa-4fe0-d46e-227e6fceb729"
      },
      "source": [
        "print(\"Zip Code\", \"\", \"Total\")\n",
        "for i in manhattan_dict:\n",
        "  print(i[0], \" \\t \", i[1])"
      ],
      "execution_count": 46,
      "outputs": [
        {
          "output_type": "stream",
          "name": "stdout",
          "text": [
            "Zip Code  Total\n",
            "10036  \t  3943\n",
            "10011  \t  2987\n",
            "10013  \t  2653\n",
            "10019  \t  2579\n",
            "10003  \t  2310\n",
            "10001  \t  2154\n",
            "10012  \t  2122\n",
            "10014  \t  2118\n",
            "10002  \t  1911\n",
            "10023  \t  1534\n",
            "10022  \t  1473\n",
            "10017  \t  1268\n",
            "10010  \t  1265\n",
            "10018  \t  1205\n",
            "10027  \t  1070\n",
            "10016  \t  1025\n",
            "10065  \t  934\n",
            "10038  \t  932\n",
            "10024  \t  804\n",
            "10007  \t  749\n",
            "10021  \t  747\n",
            "10005  \t  742\n",
            "10025  \t  706\n",
            "10105  \t  634\n",
            "10009  \t  633\n"
          ]
        }
      ]
    },
    {
      "cell_type": "code",
      "metadata": {
        "id": "rUHD9RJznO5R"
      },
      "source": [
        "# Filter rows where Borough = Brooklyn\n",
        "brooklyn_filter = 'SELECT * FROM event WHERE Borough = \"Brooklyn\"'\n",
        "brooklyn = psql.sqldf(brooklyn_filter)\n",
        "brooklyn"
      ],
      "execution_count": null,
      "outputs": []
    },
    {
      "cell_type": "code",
      "metadata": {
        "colab": {
          "base_uri": "https://localhost:8080/",
          "height": 317
        },
        "id": "Erxcd2O0Ab8x",
        "outputId": "01b03d43-b748-441c-acf6-debfd3248d4a"
      },
      "source": [
        "# Finding the most popular zip codes used for filming locations in Brooklyn \n",
        "brooklyn_list = []\n",
        "for i in brooklyn['ZipCode(s)']:\n",
        "    temp = str(i).split(\", \")\n",
        "    for j in temp:\n",
        "        brooklyn_list.append(j)\n",
        "\n",
        "# Graph the 25 most popular zip codes in Brooklyn\n",
        "brooklyn_dict = Counter(brooklyn_list).most_common(25)\n",
        "\n",
        "brooklyn_keys = [x[0] for x in brooklyn_dict]\n",
        "brooklyn_values = [x[1] for x in brooklyn_dict]\n",
        "\n",
        "brooklyn_zip = plt.bar(brooklyn_keys, brooklyn_values)\n",
        "plt.title('Top 25 Most Popular Filming Zip Codes in Brooklyn')\n",
        "plt.xlabel('Zip Codes')\n",
        "plt.xticks(rotation = 90)\n",
        "plt.ylabel('Number of Film Permits')\n",
        "plt.show()"
      ],
      "execution_count": 43,
      "outputs": [
        {
          "output_type": "display_data",
          "data": {
            "image/png": "[encoded data removed]",
            "text/plain": [
              "<Figure size 432x288 with 1 Axes>"
            ]
          },
          "metadata": {
            "needs_background": "light"
          }
        }
      ]
    },
    {
      "cell_type": "code",
      "metadata": {
        "colab": {
          "base_uri": "https://localhost:8080/"
        },
        "id": "22UsDuf6N0oQ",
        "outputId": "1129a646-1ddc-4b7d-b38f-a96db5e65aeb"
      },
      "source": [
        "print(\"Zip Code\", \"\", \"Total\")\n",
        "for i in brooklyn_dict:\n",
        "  print(i[0], \" \\t \", i[1])"
      ],
      "execution_count": 47,
      "outputs": [
        {
          "output_type": "stream",
          "name": "stdout",
          "text": [
            "Zip Code  Total\n",
            "11222  \t  7837\n",
            "11201  \t  2325\n",
            "11211  \t  1672\n",
            "11249  \t  1563\n",
            "11217  \t  1340\n",
            "11231  \t  1081\n",
            "11205  \t  1011\n",
            "11215  \t  883\n",
            "11237  \t  814\n",
            "11206  \t  812\n",
            "11238  \t  740\n",
            "11226  \t  727\n",
            "11232  \t  539\n",
            "11218  \t  495\n",
            "11216  \t  427\n",
            "11101  \t  413\n",
            "11225  \t  350\n",
            "11220  \t  321\n",
            "11221  \t  313\n",
            "11230  \t  288\n",
            "11207  \t  279\n",
            "11224  \t  231\n",
            "11209  \t  190\n",
            "11203  \t  172\n",
            "11233  \t  164\n"
          ]
        }
      ]
    },
    {
      "cell_type": "code",
      "metadata": {
        "id": "U2QSjczVnOyL"
      },
      "source": [
        "# Filter rows where Borough = Queens\n",
        "queens_filter = 'SELECT * FROM event WHERE Borough = \"Queens\"'\n",
        "queens = psql.sqldf(queens_filter)\n",
        "queens"
      ],
      "execution_count": null,
      "outputs": []
    },
    {
      "cell_type": "code",
      "metadata": {
        "colab": {
          "base_uri": "https://localhost:8080/",
          "height": 317
        },
        "id": "_G-i3C7aAcQr",
        "outputId": "64f61ab2-0d9e-461f-8c53-a852358d6d15"
      },
      "source": [
        "# Finding the most popular zip codes used for filming locations in Queens \n",
        "queens_list = []\n",
        "for i in queens['ZipCode(s)']:\n",
        "    temp = str(i).split(\", \")\n",
        "    for j in temp:\n",
        "        queens_list.append(j)\n",
        "\n",
        "# Graph the 25 most popular zip codes in Queens \n",
        "queens_dict = Counter(queens_list).most_common(25)\n",
        "\n",
        "queens_keys = [x[0] for x in queens_dict]\n",
        "queens_values = [x[1] for x in queens_dict]\n",
        "\n",
        "queens_zip = plt.bar(queens_keys, queens_values)\n",
        "plt.title('Top 25 Most Popular Filming Zip Codes in Queens ')\n",
        "plt.xlabel('Zip Codes')\n",
        "plt.xticks(rotation = 90)\n",
        "plt.ylabel('Number of Film Permits')\n",
        "plt.show()"
      ],
      "execution_count": 45,
      "outputs": [
        {
          "output_type": "display_data",
          "data": {
            "image/png": "[encoded data removed]",
            "text/plain": [
              "<Figure size 432x288 with 1 Axes>"
            ]
          },
          "metadata": {
            "needs_background": "light"
          }
        }
      ]
    },
    {
      "cell_type": "code",
      "metadata": {
        "id": "gIk-PTY9nOnl",
        "colab": {
          "base_uri": "https://localhost:8080/"
        },
        "outputId": "a01422ba-c2b5-4305-c959-7a26bd0d2545"
      },
      "source": [
        "print(\"Zip Code\", \"\", \"Total\")\n",
        "for i in queens_dict:\n",
        "  print(i[0], \" \\t \", i[1])"
      ],
      "execution_count": 48,
      "outputs": [
        {
          "output_type": "stream",
          "name": "stdout",
          "text": [
            "Zip Code  Total\n",
            "11101  \t  5736\n",
            "11106  \t  1697\n",
            "11385  \t  1436\n",
            "11237  \t  705\n",
            "11105  \t  437\n",
            "11378  \t  408\n",
            "11222  \t  368\n",
            "11415  \t  319\n",
            "11102  \t  261\n",
            "11375  \t  222\n",
            "11104  \t  214\n",
            "11377  \t  204\n",
            "11363  \t  185\n",
            "11357  \t  181\n",
            "11103  \t  172\n",
            "11418  \t  152\n",
            "11109  \t  134\n",
            "11379  \t  134\n",
            "11435  \t  126\n",
            "11374  \t  124\n",
            "11367  \t  120\n",
            "11361  \t  114\n",
            "11373  \t  107\n",
            "11421  \t  104\n",
            "11694  \t  102\n"
          ]
        }
      ]
    },
    {
      "cell_type": "code",
      "metadata": {
        "id": "tjcXsYD1N5_o"
      },
      "source": [
        ""
      ],
      "execution_count": null,
      "outputs": []
    },
    {
      "cell_type": "code",
      "metadata": {
        "id": "s2KeABnPN5wo"
      },
      "source": [
        ""
      ],
      "execution_count": null,
      "outputs": []
    },
    {
      "cell_type": "code",
      "metadata": {
        "id": "beUw6HfmN5jG"
      },
      "source": [
        ""
      ],
      "execution_count": null,
      "outputs": []
    },
    {
      "cell_type": "code",
      "metadata": {
        "id": "M0lfjMVBN5LQ"
      },
      "source": [
        ""
      ],
      "execution_count": null,
      "outputs": []
    },
    {
      "cell_type": "markdown",
      "metadata": {
        "id": "FoicNKR5hYHI"
      },
      "source": [
        "<br>Resources</br>\n",
        "Dataset: \n",
        "> https://data.cityofnewyork.us/City-Government/Film-Permits/tg4x-b46p\n",
        "\n",
        "Loading data onto Colab: \n",
        "> https://towardsdatascience.com/3-ways-to-load-csv-files-into-colab-7c14fcbdcb92\n",
        "\n",
        "Bar Graph:\n",
        "> \n",
        "\n",
        "Pie Chart:\n",
        "> https://www.sisense.com/blog/data-visualizations-in-python-and-r/"
      ]
    }
  ]
}